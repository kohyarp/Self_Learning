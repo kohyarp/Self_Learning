{
 "cells": [
  {
   "cell_type": "markdown",
   "metadata": {},
   "source": [
    "## Self Learning \n",
    "## The goal of this project is \n",
    "    • Analyze data related to a healthcare topic using ML or DL methods \n",
    "    • Create a tutorial that teaches others how to d somple analyses on medical related study and effetivelu presrnt it using PowePoints, speaker notes, and comments in Python code.\n",
    "    • Develop ability to create and explain analyses. \n",
    "    • Evaluate the effectiveness of code tutorials for replicability.\n",
    "The following MArkdown is for the self learning project"
   ]
  },
  {
   "cell_type": "markdown",
   "metadata": {},
   "source": [
    "This project uses the MIMIC-III dataset to predict the mortality of patients in critical care due to cardiac arrest (ICD-9 code: 427.5).\n",
    "\n",
    "The MIMIC-III dataset is available at https://mimic.physionet.org/.\n",
    "\n",
    "Asystole (cardiac arrest due to absent electrical activity) is identified by ICD-9 code 427.5 – Cardiac Arrest. It is a form of cardiac arrest where there is no electrical activity in the heart, often leading to sudden death if not treated immediately.\n",
    "\n",
    "There are many reasons why this can occur, potentially leading to either recovery or death. In this study, we aim to predict the mortality rate and evaluate whether machine learning can analyze patient history, lab results, and other relevant clinical data to predict the risk of cardiac arrest and the likelihood of survival.\n",
    "\n",
    "Due to the complexity of this project, my primary focus will be on the second half of the study—assessing the probability of survival following a cardiac arrest episode. Specifically, I aim to determine whether machine learning models can predict, with a certain level of confidence, whether a patient is likely to recover or pass away based on their medical history and other clinical factors.\n",
    "\n",
    "Due to the compelxity of the proejct, I have chosen to wokr on a simple problem of Binary Classification: Predict survival vs. death after cardiac arrest. The problem is complec in nature and required extracting meaningful temporal patterns from labs, vitals, medications, etc whoch is out f the scope of my project and my ability. Thus I ahve chosen a simple scope of binary c;asisfication by chosing csom critcal feature selection that deemed to be crrucuial to patients' survival. \n",
    "I will skip Complex Preprocessing of MIMIC-III tables and avoid raw time-series data processing as well.\n"
   ]
  },
  {
   "cell_type": "markdown",
   "metadata": {},
   "source": []
  },
  {
   "cell_type": "markdown",
   "metadata": {},
   "source": [
    "Critical feature selections: \n",
    "The follwong is the general feature have been chosen for this study:\n",
    "    Vital Signs: Temperature, heart rate, blood pressure, respiratory rate, oxygen saturation\n",
    "    Demographics: Age, gender, BMI\n",
    "    Clinical History: Alcohol, tobacco, smoking status\n",
    "    Labs & Biomarkers: Hypo/hypercalcemia, hypo/hypernatremia, bicarbonate, creatinine, albumin, lactate, glucose, c-Troponin, high-sensitivity troponin, INR, PTT\n",
    "    Additional Predictors: Glasgow Coma Scale (GCS), arterial blood gas (pH, PaCO2)\n",
    "    Otehr additional: Marital Status, Insurance, Ethnicity, Income,  \n"
   ]
  },
  {
   "cell_type": "code",
   "execution_count": 1,
   "metadata": {},
   "outputs": [
    {
     "name": "stdout",
     "output_type": "stream",
     "text": [
      "c:\\Users\\kohya\\AppData\\Local\\Programs\\Python\\Python312\\python.exe\n"
     ]
    }
   ],
   "source": [
    "import sys\n",
    "print(sys.executable)"
   ]
  },
  {
   "cell_type": "code",
   "execution_count": 4,
   "metadata": {},
   "outputs": [
    {
     "ename": "ModuleNotFoundError",
     "evalue": "No module named 'google'",
     "output_type": "error",
     "traceback": [
      "\u001b[31m---------------------------------------------------------------------------\u001b[39m",
      "\u001b[31mModuleNotFoundError\u001b[39m                       Traceback (most recent call last)",
      "\u001b[36mCell\u001b[39m\u001b[36m \u001b[39m\u001b[32mIn[4]\u001b[39m\u001b[32m, line 2\u001b[39m\n\u001b[32m      1\u001b[39m \u001b[38;5;66;03m# Initialization\u001b[39;00m\n\u001b[32m----> \u001b[39m\u001b[32m2\u001b[39m \u001b[38;5;28;01mfrom\u001b[39;00m\u001b[38;5;250m \u001b[39m\u001b[34;01mgoogle\u001b[39;00m\u001b[34;01m.\u001b[39;00m\u001b[34;01mcloud\u001b[39;00m\u001b[38;5;250m \u001b[39m\u001b[38;5;28;01mimport\u001b[39;00m bigquery\n\u001b[32m      3\u001b[39m \u001b[38;5;28;01mfrom\u001b[39;00m\u001b[38;5;250m \u001b[39m\u001b[34;01mgoogle\u001b[39;00m\u001b[34;01m.\u001b[39;00m\u001b[34;01moauth2\u001b[39;00m\u001b[38;5;250m \u001b[39m\u001b[38;5;28;01mimport\u001b[39;00m service_account\n\u001b[32m      4\u001b[39m \u001b[38;5;28;01mimport\u001b[39;00m\u001b[38;5;250m \u001b[39m\u001b[34;01mos\u001b[39;00m\n",
      "\u001b[31mModuleNotFoundError\u001b[39m: No module named 'google'"
     ]
    }
   ],
   "source": [
    "# Initialization\n",
    "from google.cloud import bigquery\n",
    "from google.oauth2 import service_account\n",
    "import os\n",
    "import db_dtypes\n",
    "import pandas as pd\n",
    "import db_dtypes\n",
    "\n",
    "\n",
    "# Set up credentials\n",
    "# set the GOOGLE_APPLICATION_CREDENTIALS environment variable\n",
    "os.environ['GOOGLE_APPLICATION_CREDENTIALS'] = \"C:/Users/kohya/OneDrive/Koohyar/ML program/MSAI-TX/AI In Health Care/mimiciii-main-232ed25f7b49.json\""
   ]
  },
  {
   "cell_type": "code",
   "execution_count": null,
   "metadata": {},
   "outputs": [],
   "source": []
  }
 ],
 "metadata": {
  "kernelspec": {
   "display_name": "Python 3",
   "language": "python",
   "name": "python3"
  },
  "language_info": {
   "codemirror_mode": {
    "name": "ipython",
    "version": 3
   },
   "file_extension": ".py",
   "mimetype": "text/x-python",
   "name": "python",
   "nbconvert_exporter": "python",
   "pygments_lexer": "ipython3",
   "version": "3.12.6"
  }
 },
 "nbformat": 4,
 "nbformat_minor": 2
}
